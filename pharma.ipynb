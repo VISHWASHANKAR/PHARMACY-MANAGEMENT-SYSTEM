{
 "cells": [
  {
   "cell_type": "code",
   "execution_count": 1,
   "id": "d3c7706c-aa70-41a1-a51b-6a74bb2969d3",
   "metadata": {},
   "outputs": [
    {
     "name": "stdout",
     "output_type": "stream",
     "text": [
      "Requirement already satisfied: mysql-connector-python in c:\\users\\vishw\\anaconda3\\lib\\site-packages (8.4.0)\n",
      "Note: you may need to restart the kernel to use updated packages.\n"
     ]
    }
   ],
   "source": [
    "pip install mysql-connector-python\n"
   ]
  },
  {
   "cell_type": "code",
   "execution_count": 3,
   "id": "4c80e06e-0a51-4a8e-a0a9-c3a6ed5aac3a",
   "metadata": {},
   "outputs": [
    {
     "name": "stdout",
     "output_type": "stream",
     "text": [
      "\n",
      "Choose an option:\n",
      "1. Insert medicine\n",
      "2. Insert customer\n",
      "3. Insert sale\n",
      "4. Exit\n"
     ]
    },
    {
     "name": "stdin",
     "output_type": "stream",
     "text": [
      "Enter choice:  1\n",
      "Enter medicine name:  dimethylaldehyde\n",
      "Enter manufacturer:  cde pharma\n",
      "Enter expiry date (YYYY-MM-DD):  2026-08-04\n",
      "Enter price:  50\n",
      "Enter quantity:  50\n"
     ]
    },
    {
     "name": "stdout",
     "output_type": "stream",
     "text": [
      "\n",
      "Choose an option:\n",
      "1. Insert medicine\n",
      "2. Insert customer\n",
      "3. Insert sale\n",
      "4. Exit\n"
     ]
    },
    {
     "name": "stdin",
     "output_type": "stream",
     "text": [
      "Enter choice:  2\n",
      "Enter customer name:  suganth\n",
      "Enter contact:  8310000318\n",
      "Enter address:  thoothukudi,TamilNadu\n"
     ]
    },
    {
     "name": "stdout",
     "output_type": "stream",
     "text": [
      "\n",
      "Choose an option:\n",
      "1. Insert medicine\n",
      "2. Insert customer\n",
      "3. Insert sale\n",
      "4. Exit\n"
     ]
    },
    {
     "name": "stdin",
     "output_type": "stream",
     "text": [
      "Enter choice:  3\n",
      "Enter customer ID:  6\n",
      "Enter medicine ID:  6\n",
      "Enter quantity:  30\n",
      "Enter sale date (YYYY-MM-DD):  2024-08-12\n"
     ]
    },
    {
     "name": "stdout",
     "output_type": "stream",
     "text": [
      "\n",
      "Choose an option:\n",
      "1. Insert medicine\n",
      "2. Insert customer\n",
      "3. Insert sale\n",
      "4. Exit\n"
     ]
    },
    {
     "name": "stdin",
     "output_type": "stream",
     "text": [
      "Enter choice:  4\n"
     ]
    },
    {
     "name": "stdout",
     "output_type": "stream",
     "text": [
      "\n",
      "Medicines:\n",
      "(1, 'paracetamol', 'abc pharma', datetime.date(2023, 12, 31), Decimal('2.00'), 100)\n",
      "(2, 'dolo', 'xyz pharma', datetime.date(2024, 1, 2), Decimal('4.00'), 200)\n",
      "(3, 'cetrizen', 'ijk pharma', datetime.date(2025, 10, 23), Decimal('8.00'), 300)\n",
      "(4, 'para', 'dfg pharma', datetime.date(2025, 2, 1), Decimal('5.00'), 100)\n",
      "(5, 'cipla', 'mno pharma', datetime.date(2026, 12, 23), Decimal('7.00'), 100)\n",
      "(6, 'dimethylaldehyde', 'cde pharma', datetime.date(2026, 8, 4), Decimal('50.00'), 50)\n",
      "\n",
      "Customers:\n",
      "(1, 'vimal', '7300073000', 'erode,tamilnadu')\n",
      "(2, 'vijayakumar', '6369874974', 'salem,tamilnadu')\n",
      "(3, 'shrinivassan', '9840440404', 'erode,tamilnadu')\n",
      "(4, 'vishwa s', '9876543789', 'karu,tn')\n",
      "(5, 'aarumugam', '8756748759', 'Thiruvarur,TamilNadu')\n",
      "(6, 'suganth', '8310000318', 'thoothukudi,TamilNadu')\n",
      "\n",
      "Sales:\n",
      "(1, 1, 1, 2, datetime.date(2024, 1, 1))\n",
      "(2, 2, 2, 5, datetime.date(2023, 1, 15))\n",
      "(3, 3, 3, 8, datetime.date(2024, 1, 1))\n",
      "(4, 3, 2, 10, datetime.date(2024, 1, 1))\n",
      "(5, 5, 4, 25, datetime.date(2024, 11, 25))\n",
      "(6, 6, 6, 30, datetime.date(2024, 8, 12))\n"
     ]
    }
   ],
   "source": [
    "import mysql.connector\n",
    "\n",
    "# Connect to MySQL database\n",
    "conn = mysql.connector.connect(\n",
    "    host=\"127.0.0.1\",\n",
    "    user=\"root\",\n",
    "    password=\"student115\",\n",
    "    database=\"PharmacyDB1\"\n",
    ")\n",
    "\n",
    "cursor = conn.cursor()\n",
    "\n",
    "# Create tables if not exists\n",
    "cursor.execute('''\n",
    "CREATE TABLE IF NOT EXISTS Medicines (\n",
    "    id INT AUTO_INCREMENT PRIMARY KEY,\n",
    "    name VARCHAR(255) NOT NULL,\n",
    "    manufacturer VARCHAR(255),\n",
    "    expiry_date DATE,\n",
    "    price DECIMAL(10, 2),\n",
    "    quantity INT\n",
    ")\n",
    "''')\n",
    "\n",
    "cursor.execute('''\n",
    "CREATE TABLE IF NOT EXISTS Customers (\n",
    "    id INT AUTO_INCREMENT PRIMARY KEY,\n",
    "    name VARCHAR(255) NOT NULL,\n",
    "    contact VARCHAR(255),\n",
    "    address VARCHAR(255)\n",
    ")\n",
    "''')\n",
    "\n",
    "cursor.execute('''\n",
    "CREATE TABLE IF NOT EXISTS Sales (\n",
    "    id INT AUTO_INCREMENT PRIMARY KEY,\n",
    "    customer_id INT,\n",
    "    medicine_id INT,\n",
    "    quantity INT,\n",
    "    sale_date DATE,\n",
    "    FOREIGN KEY (customer_id) REFERENCES Customers (id),\n",
    "    FOREIGN KEY (medicine_id) REFERENCES Medicines (id)\n",
    ")\n",
    "''')\n",
    "\n",
    "# Commit changes\n",
    "conn.commit()\n",
    "\n",
    "# Function to insert medicine data\n",
    "def insert_medicine():\n",
    "    name = input(\"Enter medicine name: \")\n",
    "    manufacturer = input(\"Enter manufacturer: \")\n",
    "    expiry_date = input(\"Enter expiry date (YYYY-MM-DD): \")\n",
    "    price = float(input(\"Enter price: \"))\n",
    "    quantity = int(input(\"Enter quantity: \"))\n",
    "\n",
    "    cursor.execute('''\n",
    "    INSERT INTO Medicines (name, manufacturer, expiry_date, price, quantity)\n",
    "    VALUES (%s, %s, %s, %s, %s)\n",
    "    ''', (name, manufacturer, expiry_date, price, quantity))\n",
    "\n",
    "# Function to insert customer data\n",
    "def insert_customer():\n",
    "    name = input(\"Enter customer name: \")\n",
    "    contact = input(\"Enter contact: \")\n",
    "    address = input(\"Enter address: \")\n",
    "\n",
    "    cursor.execute('''\n",
    "    INSERT INTO Customers (name, contact, address)\n",
    "    VALUES (%s, %s, %s)\n",
    "    ''', (name, contact, address))\n",
    "\n",
    "# Function to insert sales data\n",
    "def insert_sale():\n",
    "    customer_id = int(input(\"Enter customer ID: \"))\n",
    "    medicine_id = int(input(\"Enter medicine ID: \"))\n",
    "    quantity = int(input(\"Enter quantity: \"))\n",
    "    sale_date = input(\"Enter sale date (YYYY-MM-DD): \")\n",
    "\n",
    "    cursor.execute('''\n",
    "    INSERT INTO Sales (customer_id, medicine_id, quantity, sale_date)\n",
    "    VALUES (%s, %s, %s, %s)\n",
    "    ''', (customer_id, medicine_id, quantity, sale_date))\n",
    "\n",
    "# Insert data\n",
    "while True:\n",
    "    print(\"\\nChoose an option:\")\n",
    "    print(\"1. Insert medicine\")\n",
    "    print(\"2. Insert customer\")\n",
    "    print(\"3. Insert sale\")\n",
    "    print(\"4. Exit\")\n",
    "    \n",
    "    choice = int(input(\"Enter choice: \"))\n",
    "    \n",
    "    if choice == 1:\n",
    "        insert_medicine()\n",
    "    elif choice == 2:\n",
    "        insert_customer()\n",
    "    elif choice == 3:\n",
    "        insert_sale()\n",
    "    elif choice == 4:\n",
    "        break\n",
    "    else:\n",
    "        print(\"Invalid choice. Please try again.\")\n",
    "\n",
    "# Commit changes\n",
    "conn.commit()\n",
    "\n",
    "# Query to fetch all medicines\n",
    "cursor.execute('SELECT * FROM Medicines')\n",
    "medicines = cursor.fetchall()\n",
    "print(\"\\nMedicines:\")\n",
    "for medicine in medicines:\n",
    "    print(medicine)\n",
    "\n",
    "# Query to fetch all customers\n",
    "cursor.execute('SELECT * FROM Customers')\n",
    "customers = cursor.fetchall()\n",
    "print(\"\\nCustomers:\")\n",
    "for customer in customers:\n",
    "    print(customer)\n",
    "\n",
    "# Query to fetch all sales\n",
    "cursor.execute('SELECT * FROM Sales')\n",
    "sales = cursor.fetchall()\n",
    "print(\"\\nSales:\")\n",
    "for sale in sales:\n",
    "    print(sale)\n",
    "\n",
    "# Close the connection\n",
    "conn.close()\n"
   ]
  },
  {
   "cell_type": "code",
   "execution_count": null,
   "id": "9964229c-773a-4b9c-b93f-a7eecd9cb090",
   "metadata": {},
   "outputs": [],
   "source": []
  }
 ],
 "metadata": {
  "kernelspec": {
   "display_name": "Python 3 (ipykernel)",
   "language": "python",
   "name": "python3"
  },
  "language_info": {
   "codemirror_mode": {
    "name": "ipython",
    "version": 3
   },
   "file_extension": ".py",
   "mimetype": "text/x-python",
   "name": "python",
   "nbconvert_exporter": "python",
   "pygments_lexer": "ipython3",
   "version": "3.11.7"
  }
 },
 "nbformat": 4,
 "nbformat_minor": 5
}
